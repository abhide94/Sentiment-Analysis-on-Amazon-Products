{
 "cells": [
  {
   "cell_type": "markdown",
   "id": "3b3a34ba",
   "metadata": {},
   "source": [
    "# SENTIMENT ANALYSIS ON AMAZON REVIEWS\n",
    "**By**\n",
    "\n",
    "\n",
    "Abhishek De\n",
    "\n",
    "Prashant Srivastava\n",
    "\n",
    "Rahul Roy\n",
    "\n",
    "Kotha Lokesh\n",
    "\n",
    "Chaitra Bellur\n",
    "\n",
    "Sanurhanaan Shaikh\n",
    "\n",
    "\n",
    "**Task Assigned by Technocolabs**\n",
    "\n",
    "# Importing Libraries"
   ]
  },
  {
   "cell_type": "code",
   "execution_count": null,
   "id": "a80aa8ca",
   "metadata": {},
   "outputs": [],
   "source": [
    "# import pandas as pd\n",
    "import numpy as np\n",
    "\n",
    "import matplotlib.pyplot as plt\n",
    "import seaborn as sns\n",
    "\n",
    "import re\n",
    "from nltk.corpus import stopwords\n",
    "from nltk.stem.porter import PorterStemmer\n",
    "from sklearn.feature_extraction.text import TfidfVectorizer\n",
    "from nltk.tokenize import RegexpTokenizer\n",
    "from sklearn.model_selection import train_test_split\n",
    "from sklearn.metrics import classification_report,confusion_matrix\n",
    "\n",
    "%matplotlib inline"
   ]
  },
  {
   "cell_type": "code",
   "execution_count": 42,
   "id": "1bfb0006",
   "metadata": {},
   "outputs": [
    {
     "name": "stdout",
     "output_type": "stream",
     "text": [
      "Collecting mlxtend\n",
      "  Downloading mlxtend-0.18.0-py2.py3-none-any.whl (1.3 MB)\n",
      "Requirement already satisfied: scikit-learn>=0.20.3 in c:\\users\\dell\\anaconda3\\lib\\site-packages (from mlxtend) (0.24.1)\n",
      "Requirement already satisfied: matplotlib>=3.0.0 in c:\\users\\dell\\anaconda3\\lib\\site-packages (from mlxtend) (3.3.4)\n",
      "Requirement already satisfied: setuptools in c:\\users\\dell\\anaconda3\\lib\\site-packages (from mlxtend) (52.0.0.post20210125)\n",
      "Requirement already satisfied: scipy>=1.2.1 in c:\\users\\dell\\anaconda3\\lib\\site-packages (from mlxtend) (1.6.2)\n",
      "Requirement already satisfied: numpy>=1.16.2 in c:\\users\\dell\\anaconda3\\lib\\site-packages (from mlxtend) (1.20.1)\n",
      "Requirement already satisfied: joblib>=0.13.2 in c:\\users\\dell\\anaconda3\\lib\\site-packages (from mlxtend) (1.0.1)\n",
      "Requirement already satisfied: pandas>=0.24.2 in c:\\users\\dell\\anaconda3\\lib\\site-packages (from mlxtend) (1.2.4)\n",
      "Requirement already satisfied: pillow>=6.2.0 in c:\\users\\dell\\anaconda3\\lib\\site-packages (from matplotlib>=3.0.0->mlxtend) (8.2.0)\n",
      "Requirement already satisfied: kiwisolver>=1.0.1 in c:\\users\\dell\\anaconda3\\lib\\site-packages (from matplotlib>=3.0.0->mlxtend) (1.3.1)\n",
      "Requirement already satisfied: cycler>=0.10 in c:\\users\\dell\\anaconda3\\lib\\site-packages (from matplotlib>=3.0.0->mlxtend) (0.10.0)\n",
      "Requirement already satisfied: pyparsing!=2.0.4,!=2.1.2,!=2.1.6,>=2.0.3 in c:\\users\\dell\\anaconda3\\lib\\site-packages (from matplotlib>=3.0.0->mlxtend) (2.4.7)\n",
      "Requirement already satisfied: python-dateutil>=2.1 in c:\\users\\dell\\anaconda3\\lib\\site-packages (from matplotlib>=3.0.0->mlxtend) (2.8.1)\n",
      "Requirement already satisfied: six in c:\\users\\dell\\anaconda3\\lib\\site-packages (from cycler>=0.10->matplotlib>=3.0.0->mlxtend) (1.15.0)\n",
      "Requirement already satisfied: pytz>=2017.3 in c:\\users\\dell\\anaconda3\\lib\\site-packages (from pandas>=0.24.2->mlxtend) (2021.1)\n",
      "Requirement already satisfied: threadpoolctl>=2.0.0 in c:\\users\\dell\\anaconda3\\lib\\site-packages (from scikit-learn>=0.20.3->mlxtend) (2.1.0)\n",
      "Installing collected packages: mlxtend\n",
      "Successfully installed mlxtend-0.18.0\n",
      "Note: you may need to restart the kernel to use updated packages.\n"
     ]
    }
   ],
   "source": [
    "pip install mlxtend  "
   ]
  },
  {
   "cell_type": "markdown",
   "id": "2422333a",
   "metadata": {},
   "source": [
    "# Loading Dataset"
   ]
  },
  {
   "cell_type": "code",
   "execution_count": 4,
   "id": "81f491f9",
   "metadata": {},
   "outputs": [
    {
     "name": "stderr",
     "output_type": "stream",
     "text": [
      "C:\\Users\\DELL\\anaconda3\\lib\\site-packages\\IPython\\core\\interactiveshell.py:3165: DtypeWarning: Columns (1,10) have mixed types.Specify dtype option on import or set low_memory=False.\n",
      "  has_raised = await self.run_ast_nodes(code_ast.body, cell_name,\n"
     ]
    },
    {
     "name": "stdout",
     "output_type": "stream",
     "text": [
      "34660 5000 28332\n",
      "Total Rows in dataframe: 67992\n"
     ]
    }
   ],
   "source": [
    "df1 = pd.read_csv(\"data/1429_1.csv\")\n",
    "df2 = pd.read_csv(\"data/Datafiniti_Amazon_Consumer_Reviews_of_Amazon_Products.csv\")\n",
    "df3 = pd.read_csv(\"data/Datafiniti_Amazon_Consumer_Reviews_of_Amazon_Products_May19.csv\")\n",
    "df = pd.concat([df1, df2, df3])\n",
    "print(len(df1), len(df2), len(df3))\n",
    "print(\"Total Rows in dataframe:\", len(df))"
   ]
  },
  {
   "cell_type": "code",
   "execution_count": 5,
   "id": "0b42427a",
   "metadata": {},
   "outputs": [
    {
     "data": {
      "text/html": [
       "<div>\n",
       "<style scoped>\n",
       "    .dataframe tbody tr th:only-of-type {\n",
       "        vertical-align: middle;\n",
       "    }\n",
       "\n",
       "    .dataframe tbody tr th {\n",
       "        vertical-align: top;\n",
       "    }\n",
       "\n",
       "    .dataframe thead th {\n",
       "        text-align: right;\n",
       "    }\n",
       "</style>\n",
       "<table border=\"1\" class=\"dataframe\">\n",
       "  <thead>\n",
       "    <tr style=\"text-align: right;\">\n",
       "      <th></th>\n",
       "      <th>id</th>\n",
       "      <th>name</th>\n",
       "      <th>asins</th>\n",
       "      <th>brand</th>\n",
       "      <th>categories</th>\n",
       "      <th>keys</th>\n",
       "      <th>manufacturer</th>\n",
       "      <th>reviews.date</th>\n",
       "      <th>reviews.dateAdded</th>\n",
       "      <th>reviews.dateSeen</th>\n",
       "      <th>...</th>\n",
       "      <th>reviews.title</th>\n",
       "      <th>reviews.userCity</th>\n",
       "      <th>reviews.userProvince</th>\n",
       "      <th>reviews.username</th>\n",
       "      <th>dateAdded</th>\n",
       "      <th>dateUpdated</th>\n",
       "      <th>primaryCategories</th>\n",
       "      <th>imageURLs</th>\n",
       "      <th>manufacturerNumber</th>\n",
       "      <th>sourceURLs</th>\n",
       "    </tr>\n",
       "  </thead>\n",
       "  <tbody>\n",
       "    <tr>\n",
       "      <th>0</th>\n",
       "      <td>AVqkIhwDv8e3D1O-lebb</td>\n",
       "      <td>All-New Fire HD 8 Tablet, 8 HD Display, Wi-Fi,...</td>\n",
       "      <td>B01AHB9CN2</td>\n",
       "      <td>Amazon</td>\n",
       "      <td>Electronics,iPad &amp; Tablets,All Tablets,Fire Ta...</td>\n",
       "      <td>841667104676,amazon/53004484,amazon/b01ahb9cn2...</td>\n",
       "      <td>Amazon</td>\n",
       "      <td>2017-01-13T00:00:00.000Z</td>\n",
       "      <td>2017-07-03T23:33:15Z</td>\n",
       "      <td>2017-06-07T09:04:00.000Z,2017-04-30T00:45:00.000Z</td>\n",
       "      <td>...</td>\n",
       "      <td>Kindle</td>\n",
       "      <td>NaN</td>\n",
       "      <td>NaN</td>\n",
       "      <td>Adapter</td>\n",
       "      <td>NaN</td>\n",
       "      <td>NaN</td>\n",
       "      <td>NaN</td>\n",
       "      <td>NaN</td>\n",
       "      <td>NaN</td>\n",
       "      <td>NaN</td>\n",
       "    </tr>\n",
       "    <tr>\n",
       "      <th>1</th>\n",
       "      <td>AVqkIhwDv8e3D1O-lebb</td>\n",
       "      <td>All-New Fire HD 8 Tablet, 8 HD Display, Wi-Fi,...</td>\n",
       "      <td>B01AHB9CN2</td>\n",
       "      <td>Amazon</td>\n",
       "      <td>Electronics,iPad &amp; Tablets,All Tablets,Fire Ta...</td>\n",
       "      <td>841667104676,amazon/53004484,amazon/b01ahb9cn2...</td>\n",
       "      <td>Amazon</td>\n",
       "      <td>2017-01-13T00:00:00.000Z</td>\n",
       "      <td>2017-07-03T23:33:15Z</td>\n",
       "      <td>2017-06-07T09:04:00.000Z,2017-04-30T00:45:00.000Z</td>\n",
       "      <td>...</td>\n",
       "      <td>very fast</td>\n",
       "      <td>NaN</td>\n",
       "      <td>NaN</td>\n",
       "      <td>truman</td>\n",
       "      <td>NaN</td>\n",
       "      <td>NaN</td>\n",
       "      <td>NaN</td>\n",
       "      <td>NaN</td>\n",
       "      <td>NaN</td>\n",
       "      <td>NaN</td>\n",
       "    </tr>\n",
       "  </tbody>\n",
       "</table>\n",
       "<p>2 rows × 27 columns</p>\n",
       "</div>"
      ],
      "text/plain": [
       "                     id                                               name  \\\n",
       "0  AVqkIhwDv8e3D1O-lebb  All-New Fire HD 8 Tablet, 8 HD Display, Wi-Fi,...   \n",
       "1  AVqkIhwDv8e3D1O-lebb  All-New Fire HD 8 Tablet, 8 HD Display, Wi-Fi,...   \n",
       "\n",
       "        asins   brand                                         categories  \\\n",
       "0  B01AHB9CN2  Amazon  Electronics,iPad & Tablets,All Tablets,Fire Ta...   \n",
       "1  B01AHB9CN2  Amazon  Electronics,iPad & Tablets,All Tablets,Fire Ta...   \n",
       "\n",
       "                                                keys manufacturer  \\\n",
       "0  841667104676,amazon/53004484,amazon/b01ahb9cn2...       Amazon   \n",
       "1  841667104676,amazon/53004484,amazon/b01ahb9cn2...       Amazon   \n",
       "\n",
       "               reviews.date     reviews.dateAdded  \\\n",
       "0  2017-01-13T00:00:00.000Z  2017-07-03T23:33:15Z   \n",
       "1  2017-01-13T00:00:00.000Z  2017-07-03T23:33:15Z   \n",
       "\n",
       "                                    reviews.dateSeen  ... reviews.title  \\\n",
       "0  2017-06-07T09:04:00.000Z,2017-04-30T00:45:00.000Z  ...        Kindle   \n",
       "1  2017-06-07T09:04:00.000Z,2017-04-30T00:45:00.000Z  ...     very fast   \n",
       "\n",
       "  reviews.userCity  reviews.userProvince  reviews.username  dateAdded  \\\n",
       "0              NaN                   NaN           Adapter        NaN   \n",
       "1              NaN                   NaN            truman        NaN   \n",
       "\n",
       "  dateUpdated primaryCategories imageURLs  manufacturerNumber  sourceURLs  \n",
       "0         NaN               NaN       NaN                 NaN         NaN  \n",
       "1         NaN               NaN       NaN                 NaN         NaN  \n",
       "\n",
       "[2 rows x 27 columns]"
      ]
     },
     "execution_count": 5,
     "metadata": {},
     "output_type": "execute_result"
    }
   ],
   "source": [
    "df.head(2)"
   ]
  },
  {
   "cell_type": "code",
   "execution_count": 6,
   "id": "ecdac233",
   "metadata": {},
   "outputs": [
    {
     "data": {
      "text/html": [
       "<div>\n",
       "<style scoped>\n",
       "    .dataframe tbody tr th:only-of-type {\n",
       "        vertical-align: middle;\n",
       "    }\n",
       "\n",
       "    .dataframe tbody tr th {\n",
       "        vertical-align: top;\n",
       "    }\n",
       "\n",
       "    .dataframe thead th {\n",
       "        text-align: right;\n",
       "    }\n",
       "</style>\n",
       "<table border=\"1\" class=\"dataframe\">\n",
       "  <thead>\n",
       "    <tr style=\"text-align: right;\">\n",
       "      <th></th>\n",
       "      <th>id</th>\n",
       "      <th>name</th>\n",
       "      <th>asins</th>\n",
       "      <th>categories</th>\n",
       "      <th>reviews.text</th>\n",
       "      <th>reviews.date</th>\n",
       "      <th>reviews.doRecommend</th>\n",
       "    </tr>\n",
       "  </thead>\n",
       "  <tbody>\n",
       "    <tr>\n",
       "      <th>count</th>\n",
       "      <td>67992</td>\n",
       "      <td>61232</td>\n",
       "      <td>67990</td>\n",
       "      <td>67992</td>\n",
       "      <td>67991</td>\n",
       "      <td>67953</td>\n",
       "      <td>55152</td>\n",
       "    </tr>\n",
       "    <tr>\n",
       "      <th>unique</th>\n",
       "      <td>92</td>\n",
       "      <td>125</td>\n",
       "      <td>94</td>\n",
       "      <td>111</td>\n",
       "      <td>46909</td>\n",
       "      <td>1451</td>\n",
       "      <td>2</td>\n",
       "    </tr>\n",
       "    <tr>\n",
       "      <th>top</th>\n",
       "      <td>AVphgVaX1cnluZ0-DR74</td>\n",
       "      <td>Fire Tablet, 7 Display, Wi-Fi, 8 GB - Includes...</td>\n",
       "      <td>B018Y229OU</td>\n",
       "      <td>Fire Tablets,Tablets,Computers &amp; Tablets,All T...</td>\n",
       "      <td>good</td>\n",
       "      <td>2017-01-23T00:00:00.000Z</td>\n",
       "      <td>True</td>\n",
       "    </tr>\n",
       "    <tr>\n",
       "      <th>freq</th>\n",
       "      <td>10966</td>\n",
       "      <td>10966</td>\n",
       "      <td>10966</td>\n",
       "      <td>10966</td>\n",
       "      <td>61</td>\n",
       "      <td>1314</td>\n",
       "      <td>52800</td>\n",
       "    </tr>\n",
       "  </tbody>\n",
       "</table>\n",
       "</div>"
      ],
      "text/plain": [
       "                          id  \\\n",
       "count                  67992   \n",
       "unique                    92   \n",
       "top     AVphgVaX1cnluZ0-DR74   \n",
       "freq                   10966   \n",
       "\n",
       "                                                     name       asins  \\\n",
       "count                                               61232       67990   \n",
       "unique                                                125          94   \n",
       "top     Fire Tablet, 7 Display, Wi-Fi, 8 GB - Includes...  B018Y229OU   \n",
       "freq                                                10966       10966   \n",
       "\n",
       "                                               categories reviews.text  \\\n",
       "count                                               67992        67991   \n",
       "unique                                                111        46909   \n",
       "top     Fire Tablets,Tablets,Computers & Tablets,All T...         good   \n",
       "freq                                                10966           61   \n",
       "\n",
       "                    reviews.date reviews.doRecommend  \n",
       "count                      67953               55152  \n",
       "unique                      1451                   2  \n",
       "top     2017-01-23T00:00:00.000Z                True  \n",
       "freq                        1314               52800  "
      ]
     },
     "execution_count": 6,
     "metadata": {},
     "output_type": "execute_result"
    }
   ],
   "source": [
    "data = df[['id', 'name', 'asins', 'categories', 'reviews.rating', 'reviews.text', 'reviews.date', 'reviews.doRecommend']]\n",
    "data.describe(include=object)"
   ]
  },
  {
   "cell_type": "markdown",
   "id": "4176912f",
   "metadata": {},
   "source": [
    "# Exploratory Data Analysis (EDA)"
   ]
  },
  {
   "cell_type": "code",
   "execution_count": 7,
   "id": "fb3f0907",
   "metadata": {},
   "outputs": [
    {
     "name": "stdout",
     "output_type": "stream",
     "text": [
      "<class 'pandas.core.frame.DataFrame'>\n",
      "Int64Index: 67992 entries, 0 to 28331\n",
      "Data columns (total 8 columns):\n",
      " #   Column               Non-Null Count  Dtype  \n",
      "---  ------               --------------  -----  \n",
      " 0   id                   67992 non-null  object \n",
      " 1   name                 61232 non-null  object \n",
      " 2   asins                67990 non-null  object \n",
      " 3   categories           67992 non-null  object \n",
      " 4   reviews.rating       67959 non-null  float64\n",
      " 5   reviews.text         67991 non-null  object \n",
      " 6   reviews.date         67953 non-null  object \n",
      " 7   reviews.doRecommend  55152 non-null  object \n",
      "dtypes: float64(1), object(7)\n",
      "memory usage: 4.7+ MB\n"
     ]
    }
   ],
   "source": [
    "data.info()"
   ]
  },
  {
   "cell_type": "code",
   "execution_count": 8,
   "id": "f021834e",
   "metadata": {},
   "outputs": [
    {
     "name": "stderr",
     "output_type": "stream",
     "text": [
      "<ipython-input-8-6582acaae69d>:1: SettingWithCopyWarning: \n",
      "A value is trying to be set on a copy of a slice from a DataFrame.\n",
      "Try using .loc[row_indexer,col_indexer] = value instead\n",
      "\n",
      "See the caveats in the documentation: https://pandas.pydata.org/pandas-docs/stable/user_guide/indexing.html#returning-a-view-versus-a-copy\n",
      "  data['reviews.date'] = pd.to_datetime(data['reviews.date'])\n"
     ]
    }
   ],
   "source": [
    "data['reviews.date'] = pd.to_datetime(data['reviews.date'])"
   ]
  },
  {
   "cell_type": "code",
   "execution_count": 9,
   "id": "1e0ac3f7",
   "metadata": {},
   "outputs": [
    {
     "name": "stderr",
     "output_type": "stream",
     "text": [
      "C:\\Users\\DELL\\anaconda3\\lib\\site-packages\\pandas\\core\\series.py:4463: SettingWithCopyWarning: \n",
      "A value is trying to be set on a copy of a slice from a DataFrame\n",
      "\n",
      "See the caveats in the documentation: https://pandas.pydata.org/pandas-docs/stable/user_guide/indexing.html#returning-a-view-versus-a-copy\n",
      "  return super().fillna(\n"
     ]
    }
   ],
   "source": [
    "data[\"reviews.doRecommend\"].fillna(\"Neutral\", inplace = True)"
   ]
  },
  {
   "cell_type": "code",
   "execution_count": 10,
   "id": "1cf4d040",
   "metadata": {},
   "outputs": [
    {
     "data": {
      "text/plain": [
       "(67992, 8)"
      ]
     },
     "execution_count": 10,
     "metadata": {},
     "output_type": "execute_result"
    }
   ],
   "source": [
    "data.shape"
   ]
  },
  {
   "cell_type": "code",
   "execution_count": 11,
   "id": "0fdc1f13",
   "metadata": {},
   "outputs": [
    {
     "data": {
      "text/plain": [
       "id                        0\n",
       "name                   6760\n",
       "asins                     2\n",
       "categories                0\n",
       "reviews.rating           33\n",
       "reviews.text              1\n",
       "reviews.date             39\n",
       "reviews.doRecommend       0\n",
       "dtype: int64"
      ]
     },
     "execution_count": 11,
     "metadata": {},
     "output_type": "execute_result"
    }
   ],
   "source": [
    "data.isnull().sum()"
   ]
  },
  {
   "cell_type": "code",
   "execution_count": 12,
   "id": "640dc6d2",
   "metadata": {},
   "outputs": [
    {
     "name": "stdout",
     "output_type": "stream",
     "text": [
      "\n",
      "Total number of reviews:  67992\n",
      "\n",
      "Total number of asins:  95\n",
      "\n",
      "Total number of unique products:  2018\n",
      "\n",
      "Total number of unique categories:  111\n"
     ]
    }
   ],
   "source": [
    "print(\"\\nTotal number of reviews: \",len(data))\n",
    "print(\"\\nTotal number of asins: \", len(list(set(data['asins']))))\n",
    "print(\"\\nTotal number of unique products: \", len(list(set(data['name']))))\n",
    "print(\"\\nTotal number of unique categories: \", len(list(set(data['categories']))))"
   ]
  },
  {
   "cell_type": "code",
   "execution_count": 13,
   "id": "de9e3491",
   "metadata": {},
   "outputs": [
    {
     "data": {
      "image/png": "[encoded data removed]",
      "text/plain": [
       "<Figure size 432x288 with 1 Axes>"
      ]
     },
     "metadata": {
      "needs_background": "light"
     },
     "output_type": "display_data"
    }
   ],
   "source": [
    "counts = data['reviews.rating'].value_counts()\n",
    "plt.bar(counts.index, counts.values)\n",
    "plt.title(\"Rating\")\n",
    "plt.show()"
   ]
  },
  {
   "cell_type": "code",
   "execution_count": 14,
   "id": "0bff3dcf",
   "metadata": {},
   "outputs": [
    {
     "data": {
      "text/html": [
       "<div>\n",
       "<style scoped>\n",
       "    .dataframe tbody tr th:only-of-type {\n",
       "        vertical-align: middle;\n",
       "    }\n",
       "\n",
       "    .dataframe tbody tr th {\n",
       "        vertical-align: top;\n",
       "    }\n",
       "\n",
       "    .dataframe thead th {\n",
       "        text-align: right;\n",
       "    }\n",
       "</style>\n",
       "<table border=\"1\" class=\"dataframe\">\n",
       "  <thead>\n",
       "    <tr style=\"text-align: right;\">\n",
       "      <th>reviews.rating</th>\n",
       "      <th>1.0</th>\n",
       "      <th>2.0</th>\n",
       "      <th>3.0</th>\n",
       "      <th>4.0</th>\n",
       "      <th>5.0</th>\n",
       "    </tr>\n",
       "    <tr>\n",
       "      <th>name</th>\n",
       "      <th></th>\n",
       "      <th></th>\n",
       "      <th></th>\n",
       "      <th></th>\n",
       "      <th></th>\n",
       "    </tr>\n",
       "  </thead>\n",
       "  <tbody>\n",
       "    <tr>\n",
       "      <th>All-New Fire 7 Tablet with Alexa, 7\" Display, 8 GB - Marine Blue</th>\n",
       "      <td>1</td>\n",
       "      <td>1</td>\n",
       "      <td>2</td>\n",
       "      <td>23</td>\n",
       "      <td>55</td>\n",
       "    </tr>\n",
       "    <tr>\n",
       "      <th>All-New Fire HD 8 Kids Edition Tablet, 8 HD Display, 32 GB, Blue Kid-Proof Case</th>\n",
       "      <td>4</td>\n",
       "      <td>5</td>\n",
       "      <td>10</td>\n",
       "      <td>35</td>\n",
       "      <td>179</td>\n",
       "    </tr>\n",
       "    <tr>\n",
       "      <th>All-New Fire HD 8 Kids Edition Tablet, 8 HD Display, 32 GB, Pink Kid-Proof Case</th>\n",
       "      <td>3</td>\n",
       "      <td>3</td>\n",
       "      <td>11</td>\n",
       "      <td>62</td>\n",
       "      <td>214</td>\n",
       "    </tr>\n",
       "    <tr>\n",
       "      <th>All-New Fire HD 8 Tablet with Alexa, 8 HD Display, 16 GB, Marine Blue - with Special Offers</th>\n",
       "      <td>5</td>\n",
       "      <td>10</td>\n",
       "      <td>45</td>\n",
       "      <td>232</td>\n",
       "      <td>591</td>\n",
       "    </tr>\n",
       "    <tr>\n",
       "      <th>All-New Fire HD 8 Tablet with Alexa, 8 HD Display, 32 GB, Marine Blue - with Special Offers</th>\n",
       "      <td>5</td>\n",
       "      <td>0</td>\n",
       "      <td>2</td>\n",
       "      <td>40</td>\n",
       "      <td>113</td>\n",
       "    </tr>\n",
       "    <tr>\n",
       "      <th>...</th>\n",
       "      <td>...</td>\n",
       "      <td>...</td>\n",
       "      <td>...</td>\n",
       "      <td>...</td>\n",
       "      <td>...</td>\n",
       "    </tr>\n",
       "    <tr>\n",
       "      <th>Kindle Voyage E-reader, 6 High-Resolution Display (300 ppi) with Adaptive Built-in Light, PagePress Sensors, Wi-Fi - Includes Special Offers,</th>\n",
       "      <td>2</td>\n",
       "      <td>2</td>\n",
       "      <td>14</td>\n",
       "      <td>107</td>\n",
       "      <td>455</td>\n",
       "    </tr>\n",
       "    <tr>\n",
       "      <th>New Amazon Kindle Fire Hd 9w Powerfast Adapter Charger + Micro Usb Angle Cable,,,\\r\\n</th>\n",
       "      <td>0</td>\n",
       "      <td>0</td>\n",
       "      <td>0</td>\n",
       "      <td>0</td>\n",
       "      <td>1</td>\n",
       "    </tr>\n",
       "    <tr>\n",
       "      <th>New Amazon Kindle Fire Hd 9w Powerfast Adapter Charger + Micro Usb Angle Cable,,,\\r\\nNew Amazon Kindle Fire Hd 9w Powerfast Adapter Charger + Micro Usb Angle Cable,,,</th>\n",
       "      <td>0</td>\n",
       "      <td>0</td>\n",
       "      <td>2</td>\n",
       "      <td>1</td>\n",
       "      <td>3</td>\n",
       "    </tr>\n",
       "    <tr>\n",
       "      <th>Oem Amazon Kindle Power Usb Adapter Wall Travel Charger Fire/dx/+micro Usb Cable</th>\n",
       "      <td>4</td>\n",
       "      <td>0</td>\n",
       "      <td>0</td>\n",
       "      <td>0</td>\n",
       "      <td>0</td>\n",
       "    </tr>\n",
       "    <tr>\n",
       "      <th>Two Door Top Load Pet Kennel Travel Crate Dog Cat Pet Cage Carrier Box Tray 23\"</th>\n",
       "      <td>0</td>\n",
       "      <td>0</td>\n",
       "      <td>0</td>\n",
       "      <td>0</td>\n",
       "      <td>1</td>\n",
       "    </tr>\n",
       "  </tbody>\n",
       "</table>\n",
       "<p>125 rows × 5 columns</p>\n",
       "</div>"
      ],
      "text/plain": [
       "reviews.rating                                      1.0  2.0  3.0  4.0  5.0\n",
       "name                                                                       \n",
       "All-New Fire 7 Tablet with Alexa, 7\" Display, 8...    1    1    2   23   55\n",
       "All-New Fire HD 8 Kids Edition Tablet, 8 HD Dis...    4    5   10   35  179\n",
       "All-New Fire HD 8 Kids Edition Tablet, 8 HD Dis...    3    3   11   62  214\n",
       "All-New Fire HD 8 Tablet with Alexa, 8 HD Displ...    5   10   45  232  591\n",
       "All-New Fire HD 8 Tablet with Alexa, 8 HD Displ...    5    0    2   40  113\n",
       "...                                                 ...  ...  ...  ...  ...\n",
       "Kindle Voyage E-reader, 6 High-Resolution Displ...    2    2   14  107  455\n",
       "New Amazon Kindle Fire Hd 9w Powerfast Adapter ...    0    0    0    0    1\n",
       "New Amazon Kindle Fire Hd 9w Powerfast Adapter ...    0    0    2    1    3\n",
       "Oem Amazon Kindle Power Usb Adapter Wall Travel...    4    0    0    0    0\n",
       "Two Door Top Load Pet Kennel Travel Crate Dog C...    0    0    0    0    1\n",
       "\n",
       "[125 rows x 5 columns]"
      ]
     },
     "execution_count": 14,
     "metadata": {},
     "output_type": "execute_result"
    }
   ],
   "source": [
    "pd.crosstab(data['name'], data['reviews.rating'])"
   ]
  },
  {
   "cell_type": "markdown",
   "id": "5fdafae2",
   "metadata": {},
   "source": [
    "# Data Cleaning"
   ]
  },
  {
   "cell_type": "code",
   "execution_count": 15,
   "id": "016fbc64",
   "metadata": {},
   "outputs": [],
   "source": [
    "data=data.dropna()"
   ]
  },
  {
   "cell_type": "code",
   "execution_count": 16,
   "id": "1326be37",
   "metadata": {},
   "outputs": [],
   "source": [
    "data = data.drop_duplicates()"
   ]
  },
  {
   "cell_type": "code",
   "execution_count": 17,
   "id": "542fcb32",
   "metadata": {},
   "outputs": [],
   "source": [
    "data = data.reset_index(drop=True)"
   ]
  },
  {
   "cell_type": "code",
   "execution_count": 18,
   "id": "74cbf645",
   "metadata": {},
   "outputs": [
    {
     "data": {
      "text/html": [
       "<div>\n",
       "<style scoped>\n",
       "    .dataframe tbody tr th:only-of-type {\n",
       "        vertical-align: middle;\n",
       "    }\n",
       "\n",
       "    .dataframe tbody tr th {\n",
       "        vertical-align: top;\n",
       "    }\n",
       "\n",
       "    .dataframe thead th {\n",
       "        text-align: right;\n",
       "    }\n",
       "</style>\n",
       "<table border=\"1\" class=\"dataframe\">\n",
       "  <thead>\n",
       "    <tr style=\"text-align: right;\">\n",
       "      <th></th>\n",
       "      <th>id</th>\n",
       "      <th>name</th>\n",
       "      <th>asins</th>\n",
       "      <th>categories</th>\n",
       "      <th>reviews.rating</th>\n",
       "      <th>reviews.text</th>\n",
       "      <th>reviews.date</th>\n",
       "      <th>reviews.doRecommend</th>\n",
       "    </tr>\n",
       "  </thead>\n",
       "  <tbody>\n",
       "    <tr>\n",
       "      <th>0</th>\n",
       "      <td>AVqkIhwDv8e3D1O-lebb</td>\n",
       "      <td>All-New Fire HD 8 Tablet, 8 HD Display, Wi-Fi,...</td>\n",
       "      <td>B01AHB9CN2</td>\n",
       "      <td>Electronics,iPad &amp; Tablets,All Tablets,Fire Ta...</td>\n",
       "      <td>5.0</td>\n",
       "      <td>This product so far has not disappointed. My c...</td>\n",
       "      <td>2017-01-13 00:00:00+00:00</td>\n",
       "      <td>True</td>\n",
       "    </tr>\n",
       "    <tr>\n",
       "      <th>1</th>\n",
       "      <td>AVqkIhwDv8e3D1O-lebb</td>\n",
       "      <td>All-New Fire HD 8 Tablet, 8 HD Display, Wi-Fi,...</td>\n",
       "      <td>B01AHB9CN2</td>\n",
       "      <td>Electronics,iPad &amp; Tablets,All Tablets,Fire Ta...</td>\n",
       "      <td>5.0</td>\n",
       "      <td>great for beginner or experienced person. Boug...</td>\n",
       "      <td>2017-01-13 00:00:00+00:00</td>\n",
       "      <td>True</td>\n",
       "    </tr>\n",
       "    <tr>\n",
       "      <th>2</th>\n",
       "      <td>AVqkIhwDv8e3D1O-lebb</td>\n",
       "      <td>All-New Fire HD 8 Tablet, 8 HD Display, Wi-Fi,...</td>\n",
       "      <td>B01AHB9CN2</td>\n",
       "      <td>Electronics,iPad &amp; Tablets,All Tablets,Fire Ta...</td>\n",
       "      <td>5.0</td>\n",
       "      <td>Inexpensive tablet for him to use and learn on...</td>\n",
       "      <td>2017-01-13 00:00:00+00:00</td>\n",
       "      <td>True</td>\n",
       "    </tr>\n",
       "    <tr>\n",
       "      <th>3</th>\n",
       "      <td>AVqkIhwDv8e3D1O-lebb</td>\n",
       "      <td>All-New Fire HD 8 Tablet, 8 HD Display, Wi-Fi,...</td>\n",
       "      <td>B01AHB9CN2</td>\n",
       "      <td>Electronics,iPad &amp; Tablets,All Tablets,Fire Ta...</td>\n",
       "      <td>4.0</td>\n",
       "      <td>I've had my Fire HD 8 two weeks now and I love...</td>\n",
       "      <td>2017-01-13 00:00:00+00:00</td>\n",
       "      <td>True</td>\n",
       "    </tr>\n",
       "    <tr>\n",
       "      <th>4</th>\n",
       "      <td>AVqkIhwDv8e3D1O-lebb</td>\n",
       "      <td>All-New Fire HD 8 Tablet, 8 HD Display, Wi-Fi,...</td>\n",
       "      <td>B01AHB9CN2</td>\n",
       "      <td>Electronics,iPad &amp; Tablets,All Tablets,Fire Ta...</td>\n",
       "      <td>5.0</td>\n",
       "      <td>I bought this for my grand daughter when she c...</td>\n",
       "      <td>2017-01-12 00:00:00+00:00</td>\n",
       "      <td>True</td>\n",
       "    </tr>\n",
       "  </tbody>\n",
       "</table>\n",
       "</div>"
      ],
      "text/plain": [
       "                     id                                               name  \\\n",
       "0  AVqkIhwDv8e3D1O-lebb  All-New Fire HD 8 Tablet, 8 HD Display, Wi-Fi,...   \n",
       "1  AVqkIhwDv8e3D1O-lebb  All-New Fire HD 8 Tablet, 8 HD Display, Wi-Fi,...   \n",
       "2  AVqkIhwDv8e3D1O-lebb  All-New Fire HD 8 Tablet, 8 HD Display, Wi-Fi,...   \n",
       "3  AVqkIhwDv8e3D1O-lebb  All-New Fire HD 8 Tablet, 8 HD Display, Wi-Fi,...   \n",
       "4  AVqkIhwDv8e3D1O-lebb  All-New Fire HD 8 Tablet, 8 HD Display, Wi-Fi,...   \n",
       "\n",
       "        asins                                         categories  \\\n",
       "0  B01AHB9CN2  Electronics,iPad & Tablets,All Tablets,Fire Ta...   \n",
       "1  B01AHB9CN2  Electronics,iPad & Tablets,All Tablets,Fire Ta...   \n",
       "2  B01AHB9CN2  Electronics,iPad & Tablets,All Tablets,Fire Ta...   \n",
       "3  B01AHB9CN2  Electronics,iPad & Tablets,All Tablets,Fire Ta...   \n",
       "4  B01AHB9CN2  Electronics,iPad & Tablets,All Tablets,Fire Ta...   \n",
       "\n",
       "   reviews.rating                                       reviews.text  \\\n",
       "0             5.0  This product so far has not disappointed. My c...   \n",
       "1             5.0  great for beginner or experienced person. Boug...   \n",
       "2             5.0  Inexpensive tablet for him to use and learn on...   \n",
       "3             4.0  I've had my Fire HD 8 two weeks now and I love...   \n",
       "4             5.0  I bought this for my grand daughter when she c...   \n",
       "\n",
       "               reviews.date reviews.doRecommend  \n",
       "0 2017-01-13 00:00:00+00:00                True  \n",
       "1 2017-01-13 00:00:00+00:00                True  \n",
       "2 2017-01-13 00:00:00+00:00                True  \n",
       "3 2017-01-13 00:00:00+00:00                True  \n",
       "4 2017-01-12 00:00:00+00:00                True  "
      ]
     },
     "execution_count": 18,
     "metadata": {},
     "output_type": "execute_result"
    }
   ],
   "source": [
    "data.head()"
   ]
  },
  {
   "cell_type": "code",
   "execution_count": 19,
   "id": "87788fa1",
   "metadata": {},
   "outputs": [
    {
     "data": {
      "text/plain": [
       "(59804, 8)"
      ]
     },
     "execution_count": 19,
     "metadata": {},
     "output_type": "execute_result"
    }
   ],
   "source": [
    "data.shape"
   ]
  },
  {
   "cell_type": "code",
   "execution_count": 20,
   "id": "8e5896a7",
   "metadata": {},
   "outputs": [
    {
     "data": {
      "text/plain": [
       "array([5., 4., 2., 1., 3.])"
      ]
     },
     "execution_count": 20,
     "metadata": {},
     "output_type": "execute_result"
    }
   ],
   "source": [
    "\n",
    "data[\"reviews.rating\"].unique()"
   ]
  },
  {
   "cell_type": "code",
   "execution_count": 21,
   "id": "912da0b8",
   "metadata": {},
   "outputs": [
    {
     "data": {
      "text/plain": [
       "array(['B01AHB9CN2', 'B00VINDBJK', 'B005PB2T0S', 'B01AHB9CYG',\n",
       "       'B01AHB9C1E', 'B01J2G4VBG', 'B00ZV9PXP2', 'B018Y229OU',\n",
       "       'B00REQKWGA', 'B00IOYAM4I', 'B018T075DC', 'B018Y225IA',\n",
       "       'B005PB2T2Q', 'B018Y23MNM', 'B00OQVZDJM', 'B00IOY8XWQ',\n",
       "       'B00QJDU3KY', 'B018Y22C2Y', 'B01BFIBRIE', 'B01J4ORNHU',\n",
       "       'B018SZT3BK', 'B00UH4D8G2', 'B018Y22BI4', 'B00TSUGXKE',\n",
       "       'B00L9EPT8O,B01E6AO69U', 'B010CEHQTG', 'B01J24C0TI', 'B01N32NCPM',\n",
       "       'B06XB29FPF', 'B00QFQRELG', 'B017JG41PC', 'B01AHBBG04',\n",
       "       'B01AHBDCKQ', 'B01BH83OOM', 'B0189XYY0Q', 'B01ACEKAJY',\n",
       "       'B018Y224PY', 'B00QWO9P0O,B00LH3DMUO', 'B00DIHVMEA,B00EZ1ZTV0',\n",
       "       'B01E6AO69U,B00L9EPT8O', 'B073SQYXTW', 'B00ZV9RDKK',\n",
       "       'B00QWO9P0O,B01IB83NZG,B00MNV8E0C', 'B00WRDS8H0',\n",
       "       'B00EEBS9O0,B01CHQHIJK', 'B01B66989K,B00CD8ADKO,B00LA9H6UM',\n",
       "       'B00DUGZFWY', 'B00F5CKWBA,B00KPQCWAU',\n",
       "       'B0002LCUZK,B010CEC6MI,B01B25NN64', 'B074MCBG25,B075357QFB',\n",
       "       'B006GWO7UA', 'B01L7XWEQQ', 'B006BGZJJ4', 'B00Y3QOH5G',\n",
       "       'B00NH144GK,B00LA9H1E8', 'B00OP6SMCI', 'B00BGIQS1A', 'B006LW0W5Y',\n",
       "       'B0751RGYJV', 'B010RLCH2U', 'B01GAGYVU2', 'B0752151W6',\n",
       "       'B018SZT3BK,B01AHB9CN2', 'B018Y226XO', 'B01IO618J8',\n",
       "       'B0189XZRTI,B0189XYY0Q,B0189XZ0KY', 'B01J94SWWU', 'B00QAVO43C',\n",
       "       'B06VTJWRJW', 'B00QAVNWSK', 'B01J94SCAM', 'B01J94SBEY',\n",
       "       'B01J94YIT6', 'B01J94T1Z2', 'B00VKTZFB4', 'B00ZS0G0PG',\n",
       "       'B06XD5YCKX', 'B00XNQECFM', 'B06XCWLL12', 'B005OOKNP4',\n",
       "       'B001NIZB5M'], dtype=object)"
      ]
     },
     "execution_count": 21,
     "metadata": {},
     "output_type": "execute_result"
    }
   ],
   "source": [
    "data[\"asins\"].unique()"
   ]
  },
  {
   "cell_type": "code",
   "execution_count": 22,
   "id": "ce568fc7",
   "metadata": {},
   "outputs": [
    {
     "name": "stdout",
     "output_type": "stream",
     "text": [
      "\n",
      "Total number of unique asins:  95\n"
     ]
    }
   ],
   "source": [
    "print(\"\\nTotal number of unique asins: \", len(list(set(df['asins']))))"
   ]
  },
  {
   "cell_type": "code",
   "execution_count": 23,
   "id": "0c875895",
   "metadata": {},
   "outputs": [
    {
     "data": {
      "text/plain": [
       "array([2017, 2016, 2011, 2015, 2012, 2014, 2018, 2019, 2013, 2009],\n",
       "      dtype=int64)"
      ]
     },
     "execution_count": 23,
     "metadata": {},
     "output_type": "execute_result"
    }
   ],
   "source": [
    "year = data['reviews.date'].dt.year\n",
    "data['year']=year\n",
    "data['year'].unique()"
   ]
  },
  {
   "cell_type": "code",
   "execution_count": 24,
   "id": "b5c01f86",
   "metadata": {},
   "outputs": [
    {
     "data": {
      "text/plain": [
       "array([ 1,  2,  3,  6, 12,  5, 11,  4, 10,  8,  7,  9], dtype=int64)"
      ]
     },
     "execution_count": 24,
     "metadata": {},
     "output_type": "execute_result"
    }
   ],
   "source": [
    "month = data['reviews.date'].dt.month\n",
    "data['month']=month\n",
    "data['month'].unique()"
   ]
  },
  {
   "cell_type": "code",
   "execution_count": 25,
   "id": "31b5bbc2",
   "metadata": {},
   "outputs": [
    {
     "data": {
      "text/plain": [
       "array([datetime.date(2017, 1, 13), datetime.date(2017, 1, 12),\n",
       "       datetime.date(2017, 1, 23), ..., datetime.date(2009, 5, 27),\n",
       "       datetime.date(2009, 10, 11), datetime.date(2011, 9, 23)],\n",
       "      dtype=object)"
      ]
     },
     "execution_count": 25,
     "metadata": {},
     "output_type": "execute_result"
    }
   ],
   "source": [
    "days = data['reviews.date'].dt.date\n",
    "data['date']=days\n",
    "data['date'].unique()"
   ]
  },
  {
   "cell_type": "code",
   "execution_count": 26,
   "id": "52d94f99",
   "metadata": {},
   "outputs": [
    {
     "data": {
      "text/html": [
       "<div>\n",
       "<style scoped>\n",
       "    .dataframe tbody tr th:only-of-type {\n",
       "        vertical-align: middle;\n",
       "    }\n",
       "\n",
       "    .dataframe tbody tr th {\n",
       "        vertical-align: top;\n",
       "    }\n",
       "\n",
       "    .dataframe thead th {\n",
       "        text-align: right;\n",
       "    }\n",
       "</style>\n",
       "<table border=\"1\" class=\"dataframe\">\n",
       "  <thead>\n",
       "    <tr style=\"text-align: right;\">\n",
       "      <th></th>\n",
       "      <th>id</th>\n",
       "      <th>name</th>\n",
       "      <th>asins</th>\n",
       "      <th>categories</th>\n",
       "      <th>reviews.rating</th>\n",
       "      <th>reviews.text</th>\n",
       "      <th>reviews.doRecommend</th>\n",
       "      <th>year</th>\n",
       "      <th>month</th>\n",
       "      <th>date</th>\n",
       "    </tr>\n",
       "  </thead>\n",
       "  <tbody>\n",
       "    <tr>\n",
       "      <th>0</th>\n",
       "      <td>AVqkIhwDv8e3D1O-lebb</td>\n",
       "      <td>All-New Fire HD 8 Tablet, 8 HD Display, Wi-Fi,...</td>\n",
       "      <td>B01AHB9CN2</td>\n",
       "      <td>Electronics,iPad &amp; Tablets,All Tablets,Fire Ta...</td>\n",
       "      <td>5.0</td>\n",
       "      <td>This product so far has not disappointed. My c...</td>\n",
       "      <td>True</td>\n",
       "      <td>2017</td>\n",
       "      <td>1</td>\n",
       "      <td>2017-01-13</td>\n",
       "    </tr>\n",
       "    <tr>\n",
       "      <th>1</th>\n",
       "      <td>AVqkIhwDv8e3D1O-lebb</td>\n",
       "      <td>All-New Fire HD 8 Tablet, 8 HD Display, Wi-Fi,...</td>\n",
       "      <td>B01AHB9CN2</td>\n",
       "      <td>Electronics,iPad &amp; Tablets,All Tablets,Fire Ta...</td>\n",
       "      <td>5.0</td>\n",
       "      <td>great for beginner or experienced person. Boug...</td>\n",
       "      <td>True</td>\n",
       "      <td>2017</td>\n",
       "      <td>1</td>\n",
       "      <td>2017-01-13</td>\n",
       "    </tr>\n",
       "    <tr>\n",
       "      <th>2</th>\n",
       "      <td>AVqkIhwDv8e3D1O-lebb</td>\n",
       "      <td>All-New Fire HD 8 Tablet, 8 HD Display, Wi-Fi,...</td>\n",
       "      <td>B01AHB9CN2</td>\n",
       "      <td>Electronics,iPad &amp; Tablets,All Tablets,Fire Ta...</td>\n",
       "      <td>5.0</td>\n",
       "      <td>Inexpensive tablet for him to use and learn on...</td>\n",
       "      <td>True</td>\n",
       "      <td>2017</td>\n",
       "      <td>1</td>\n",
       "      <td>2017-01-13</td>\n",
       "    </tr>\n",
       "    <tr>\n",
       "      <th>3</th>\n",
       "      <td>AVqkIhwDv8e3D1O-lebb</td>\n",
       "      <td>All-New Fire HD 8 Tablet, 8 HD Display, Wi-Fi,...</td>\n",
       "      <td>B01AHB9CN2</td>\n",
       "      <td>Electronics,iPad &amp; Tablets,All Tablets,Fire Ta...</td>\n",
       "      <td>4.0</td>\n",
       "      <td>I've had my Fire HD 8 two weeks now and I love...</td>\n",
       "      <td>True</td>\n",
       "      <td>2017</td>\n",
       "      <td>1</td>\n",
       "      <td>2017-01-13</td>\n",
       "    </tr>\n",
       "    <tr>\n",
       "      <th>4</th>\n",
       "      <td>AVqkIhwDv8e3D1O-lebb</td>\n",
       "      <td>All-New Fire HD 8 Tablet, 8 HD Display, Wi-Fi,...</td>\n",
       "      <td>B01AHB9CN2</td>\n",
       "      <td>Electronics,iPad &amp; Tablets,All Tablets,Fire Ta...</td>\n",
       "      <td>5.0</td>\n",
       "      <td>I bought this for my grand daughter when she c...</td>\n",
       "      <td>True</td>\n",
       "      <td>2017</td>\n",
       "      <td>1</td>\n",
       "      <td>2017-01-12</td>\n",
       "    </tr>\n",
       "    <tr>\n",
       "      <th>...</th>\n",
       "      <td>...</td>\n",
       "      <td>...</td>\n",
       "      <td>...</td>\n",
       "      <td>...</td>\n",
       "      <td>...</td>\n",
       "      <td>...</td>\n",
       "      <td>...</td>\n",
       "      <td>...</td>\n",
       "      <td>...</td>\n",
       "      <td>...</td>\n",
       "    </tr>\n",
       "    <tr>\n",
       "      <th>59799</th>\n",
       "      <td>AVqkIhxunnc1JgDc3kg_</td>\n",
       "      <td>Fire HD 8 Tablet with Alexa, 8 HD Display, 16 ...</td>\n",
       "      <td>B018T075DC</td>\n",
       "      <td>Fire Tablets,Tablets,All Tablets,Amazon Tablet...</td>\n",
       "      <td>5.0</td>\n",
       "      <td>I got 2 of these for my 8 yr old twins. My 11 ...</td>\n",
       "      <td>True</td>\n",
       "      <td>2016</td>\n",
       "      <td>12</td>\n",
       "      <td>2016-12-07</td>\n",
       "    </tr>\n",
       "    <tr>\n",
       "      <th>59800</th>\n",
       "      <td>AVqkIhxunnc1JgDc3kg_</td>\n",
       "      <td>Fire HD 8 Tablet with Alexa, 8 HD Display, 16 ...</td>\n",
       "      <td>B018T075DC</td>\n",
       "      <td>Fire Tablets,Tablets,All Tablets,Amazon Tablet...</td>\n",
       "      <td>4.0</td>\n",
       "      <td>I bought this for my niece for a Christmas gif...</td>\n",
       "      <td>True</td>\n",
       "      <td>2017</td>\n",
       "      <td>1</td>\n",
       "      <td>2017-01-20</td>\n",
       "    </tr>\n",
       "    <tr>\n",
       "      <th>59801</th>\n",
       "      <td>AVqkIhxunnc1JgDc3kg_</td>\n",
       "      <td>Fire HD 8 Tablet with Alexa, 8 HD Display, 16 ...</td>\n",
       "      <td>B018T075DC</td>\n",
       "      <td>Fire Tablets,Tablets,All Tablets,Amazon Tablet...</td>\n",
       "      <td>5.0</td>\n",
       "      <td>Very nice for light internet browsing, keeping...</td>\n",
       "      <td>True</td>\n",
       "      <td>2017</td>\n",
       "      <td>1</td>\n",
       "      <td>2017-01-30</td>\n",
       "    </tr>\n",
       "    <tr>\n",
       "      <th>59802</th>\n",
       "      <td>AVqkIhxunnc1JgDc3kg_</td>\n",
       "      <td>Fire HD 8 Tablet with Alexa, 8 HD Display, 16 ...</td>\n",
       "      <td>B018T075DC</td>\n",
       "      <td>Fire Tablets,Tablets,All Tablets,Amazon Tablet...</td>\n",
       "      <td>5.0</td>\n",
       "      <td>This Tablet does absolutely everything I want!...</td>\n",
       "      <td>True</td>\n",
       "      <td>2017</td>\n",
       "      <td>2</td>\n",
       "      <td>2017-02-17</td>\n",
       "    </tr>\n",
       "    <tr>\n",
       "      <th>59803</th>\n",
       "      <td>AVqkIhxunnc1JgDc3kg_</td>\n",
       "      <td>Fire HD 8 Tablet with Alexa, 8 HD Display, 16 ...</td>\n",
       "      <td>B018T075DC</td>\n",
       "      <td>Fire Tablets,Tablets,All Tablets,Amazon Tablet...</td>\n",
       "      <td>4.0</td>\n",
       "      <td>At ninety dollars, the expectionations are low...</td>\n",
       "      <td>True</td>\n",
       "      <td>2016</td>\n",
       "      <td>12</td>\n",
       "      <td>2016-12-23</td>\n",
       "    </tr>\n",
       "  </tbody>\n",
       "</table>\n",
       "<p>59804 rows × 10 columns</p>\n",
       "</div>"
      ],
      "text/plain": [
       "                         id  \\\n",
       "0      AVqkIhwDv8e3D1O-lebb   \n",
       "1      AVqkIhwDv8e3D1O-lebb   \n",
       "2      AVqkIhwDv8e3D1O-lebb   \n",
       "3      AVqkIhwDv8e3D1O-lebb   \n",
       "4      AVqkIhwDv8e3D1O-lebb   \n",
       "...                     ...   \n",
       "59799  AVqkIhxunnc1JgDc3kg_   \n",
       "59800  AVqkIhxunnc1JgDc3kg_   \n",
       "59801  AVqkIhxunnc1JgDc3kg_   \n",
       "59802  AVqkIhxunnc1JgDc3kg_   \n",
       "59803  AVqkIhxunnc1JgDc3kg_   \n",
       "\n",
       "                                                    name       asins  \\\n",
       "0      All-New Fire HD 8 Tablet, 8 HD Display, Wi-Fi,...  B01AHB9CN2   \n",
       "1      All-New Fire HD 8 Tablet, 8 HD Display, Wi-Fi,...  B01AHB9CN2   \n",
       "2      All-New Fire HD 8 Tablet, 8 HD Display, Wi-Fi,...  B01AHB9CN2   \n",
       "3      All-New Fire HD 8 Tablet, 8 HD Display, Wi-Fi,...  B01AHB9CN2   \n",
       "4      All-New Fire HD 8 Tablet, 8 HD Display, Wi-Fi,...  B01AHB9CN2   \n",
       "...                                                  ...         ...   \n",
       "59799  Fire HD 8 Tablet with Alexa, 8 HD Display, 16 ...  B018T075DC   \n",
       "59800  Fire HD 8 Tablet with Alexa, 8 HD Display, 16 ...  B018T075DC   \n",
       "59801  Fire HD 8 Tablet with Alexa, 8 HD Display, 16 ...  B018T075DC   \n",
       "59802  Fire HD 8 Tablet with Alexa, 8 HD Display, 16 ...  B018T075DC   \n",
       "59803  Fire HD 8 Tablet with Alexa, 8 HD Display, 16 ...  B018T075DC   \n",
       "\n",
       "                                              categories  reviews.rating  \\\n",
       "0      Electronics,iPad & Tablets,All Tablets,Fire Ta...             5.0   \n",
       "1      Electronics,iPad & Tablets,All Tablets,Fire Ta...             5.0   \n",
       "2      Electronics,iPad & Tablets,All Tablets,Fire Ta...             5.0   \n",
       "3      Electronics,iPad & Tablets,All Tablets,Fire Ta...             4.0   \n",
       "4      Electronics,iPad & Tablets,All Tablets,Fire Ta...             5.0   \n",
       "...                                                  ...             ...   \n",
       "59799  Fire Tablets,Tablets,All Tablets,Amazon Tablet...             5.0   \n",
       "59800  Fire Tablets,Tablets,All Tablets,Amazon Tablet...             4.0   \n",
       "59801  Fire Tablets,Tablets,All Tablets,Amazon Tablet...             5.0   \n",
       "59802  Fire Tablets,Tablets,All Tablets,Amazon Tablet...             5.0   \n",
       "59803  Fire Tablets,Tablets,All Tablets,Amazon Tablet...             4.0   \n",
       "\n",
       "                                            reviews.text reviews.doRecommend  \\\n",
       "0      This product so far has not disappointed. My c...                True   \n",
       "1      great for beginner or experienced person. Boug...                True   \n",
       "2      Inexpensive tablet for him to use and learn on...                True   \n",
       "3      I've had my Fire HD 8 two weeks now and I love...                True   \n",
       "4      I bought this for my grand daughter when she c...                True   \n",
       "...                                                  ...                 ...   \n",
       "59799  I got 2 of these for my 8 yr old twins. My 11 ...                True   \n",
       "59800  I bought this for my niece for a Christmas gif...                True   \n",
       "59801  Very nice for light internet browsing, keeping...                True   \n",
       "59802  This Tablet does absolutely everything I want!...                True   \n",
       "59803  At ninety dollars, the expectionations are low...                True   \n",
       "\n",
       "       year  month        date  \n",
       "0      2017      1  2017-01-13  \n",
       "1      2017      1  2017-01-13  \n",
       "2      2017      1  2017-01-13  \n",
       "3      2017      1  2017-01-13  \n",
       "4      2017      1  2017-01-12  \n",
       "...     ...    ...         ...  \n",
       "59799  2016     12  2016-12-07  \n",
       "59800  2017      1  2017-01-20  \n",
       "59801  2017      1  2017-01-30  \n",
       "59802  2017      2  2017-02-17  \n",
       "59803  2016     12  2016-12-23  \n",
       "\n",
       "[59804 rows x 10 columns]"
      ]
     },
     "execution_count": 26,
     "metadata": {},
     "output_type": "execute_result"
    }
   ],
   "source": [
    "data.drop(['reviews.date'], axis='columns', inplace=True)\n",
    "data"
   ]
  },
  {
   "cell_type": "code",
   "execution_count": 27,
   "id": "47162fe4",
   "metadata": {},
   "outputs": [],
   "source": [
    "data = data[['reviews.rating', 'reviews.text']]"
   ]
  },
  {
   "cell_type": "markdown",
   "id": "a920093b",
   "metadata": {},
   "source": [
    "# Data Processing"
   ]
  },
  {
   "cell_type": "code",
   "execution_count": 28,
   "id": "819247da",
   "metadata": {},
   "outputs": [
    {
     "data": {
      "text/plain": [
       "5.0    41149\n",
       "4.0    13709\n",
       "3.0     2624\n",
       "1.0     1328\n",
       "2.0      994\n",
       "Name: reviews.rating, dtype: int64"
      ]
     },
     "execution_count": 28,
     "metadata": {},
     "output_type": "execute_result"
    }
   ],
   "source": [
    "amazon_data_pos= data[data[\"reviews.rating\"].isin([4,5])]\n",
    "amazon_data_neg= data[data[\"reviews.rating\"].isin([1,2,3])]\n",
    "data['reviews.rating'].value_counts()"
   ]
  },
  {
   "cell_type": "code",
   "execution_count": 29,
   "id": "7b6375c3",
   "metadata": {},
   "outputs": [
    {
     "data": {
      "text/plain": [
       "<AxesSubplot:>"
      ]
     },
     "execution_count": 29,
     "metadata": {},
     "output_type": "execute_result"
    },
    {
     "data": {
      "image/png": "[encoded data removed]",
      "text/plain": [
       "<Figure size 432x288 with 1 Axes>"
      ]
     },
     "metadata": {
      "needs_background": "light"
     },
     "output_type": "display_data"
    }
   ],
   "source": [
    "sns.barplot(x=data['reviews.rating'].value_counts().index,y=data['reviews.rating'].value_counts().values)"
   ]
  },
  {
   "cell_type": "code",
   "execution_count": 30,
   "id": "720bb8f6",
   "metadata": {},
   "outputs": [
    {
     "data": {
      "text/plain": [
       "(9946, 2)"
      ]
     },
     "execution_count": 30,
     "metadata": {},
     "output_type": "execute_result"
    }
   ],
   "source": [
    "model_data=pd.concat([amazon_data_pos[:5000],amazon_data_neg[:5000]])\n",
    "model_data.shape"
   ]
  },
  {
   "cell_type": "code",
   "execution_count": 31,
   "id": "9acb234f",
   "metadata": {},
   "outputs": [
    {
     "data": {
      "text/plain": [
       "<AxesSubplot:>"
      ]
     },
     "execution_count": 31,
     "metadata": {},
     "output_type": "execute_result"
    },
    {
     "data": {
      "image/png": "[encoded data removed]",
      "text/plain": [
       "<Figure size 432x288 with 1 Axes>"
      ]
     },
     "metadata": {
      "needs_background": "light"
     },
     "output_type": "display_data"
    }
   ],
   "source": [
    "sns.barplot(x=model_data['reviews.rating'].value_counts().index,y=model_data['reviews.rating'].value_counts().values)"
   ]
  },
  {
   "cell_type": "code",
   "execution_count": 33,
   "id": "8afe1bbe",
   "metadata": {},
   "outputs": [
    {
     "name": "stderr",
     "output_type": "stream",
     "text": [
      "<ipython-input-33-f468d05b8bb0>:2: SettingWithCopyWarning: \n",
      "A value is trying to be set on a copy of a slice from a DataFrame\n",
      "\n",
      "See the caveats in the documentation: https://pandas.pydata.org/pandas-docs/stable/user_guide/indexing.html#returning-a-view-versus-a-copy\n",
      "  model_data[\"sentiment\"][model_data[\"reviews.rating\"].isin([1,2,3])]= 0\n"
     ]
    },
    {
     "data": {
      "text/html": [
       "<div>\n",
       "<style scoped>\n",
       "    .dataframe tbody tr th:only-of-type {\n",
       "        vertical-align: middle;\n",
       "    }\n",
       "\n",
       "    .dataframe tbody tr th {\n",
       "        vertical-align: top;\n",
       "    }\n",
       "\n",
       "    .dataframe thead th {\n",
       "        text-align: right;\n",
       "    }\n",
       "</style>\n",
       "<table border=\"1\" class=\"dataframe\">\n",
       "  <thead>\n",
       "    <tr style=\"text-align: right;\">\n",
       "      <th></th>\n",
       "      <th>reviews.rating</th>\n",
       "      <th>reviews.text</th>\n",
       "      <th>sentiment</th>\n",
       "    </tr>\n",
       "  </thead>\n",
       "  <tbody>\n",
       "    <tr>\n",
       "      <th>0</th>\n",
       "      <td>5.0</td>\n",
       "      <td>This product so far has not disappointed. My c...</td>\n",
       "      <td>1</td>\n",
       "    </tr>\n",
       "    <tr>\n",
       "      <th>1</th>\n",
       "      <td>5.0</td>\n",
       "      <td>great for beginner or experienced person. Boug...</td>\n",
       "      <td>1</td>\n",
       "    </tr>\n",
       "    <tr>\n",
       "      <th>2</th>\n",
       "      <td>5.0</td>\n",
       "      <td>Inexpensive tablet for him to use and learn on...</td>\n",
       "      <td>1</td>\n",
       "    </tr>\n",
       "    <tr>\n",
       "      <th>3</th>\n",
       "      <td>4.0</td>\n",
       "      <td>I've had my Fire HD 8 two weeks now and I love...</td>\n",
       "      <td>1</td>\n",
       "    </tr>\n",
       "    <tr>\n",
       "      <th>4</th>\n",
       "      <td>5.0</td>\n",
       "      <td>I bought this for my grand daughter when she c...</td>\n",
       "      <td>1</td>\n",
       "    </tr>\n",
       "  </tbody>\n",
       "</table>\n",
       "</div>"
      ],
      "text/plain": [
       "   reviews.rating                                       reviews.text  \\\n",
       "0             5.0  This product so far has not disappointed. My c...   \n",
       "1             5.0  great for beginner or experienced person. Boug...   \n",
       "2             5.0  Inexpensive tablet for him to use and learn on...   \n",
       "3             4.0  I've had my Fire HD 8 two weeks now and I love...   \n",
       "4             5.0  I bought this for my grand daughter when she c...   \n",
       "\n",
       "   sentiment  \n",
       "0          1  \n",
       "1          1  \n",
       "2          1  \n",
       "3          1  \n",
       "4          1  "
      ]
     },
     "execution_count": 33,
     "metadata": {},
     "output_type": "execute_result"
    }
   ],
   "source": [
    "model_data['sentiment']=1\n",
    "model_data[\"sentiment\"][model_data[\"reviews.rating\"].isin([1,2,3])]= 0\n",
    "model_data.head()"
   ]
  },
  {
   "cell_type": "code",
   "execution_count": 34,
   "id": "8622dcbd",
   "metadata": {},
   "outputs": [
    {
     "data": {
      "text/plain": [
       "1    5000\n",
       "0    4946\n",
       "Name: sentiment, dtype: int64"
      ]
     },
     "execution_count": 34,
     "metadata": {},
     "output_type": "execute_result"
    }
   ],
   "source": [
    "model_data.sentiment.value_counts()"
   ]
  },
  {
   "cell_type": "code",
   "execution_count": 35,
   "id": "0683ba35",
   "metadata": {},
   "outputs": [],
   "source": [
    "import string\n",
    "def review_cleaning(text):\n",
    "    '''Make text lowercase, remove text in square brackets,remove links,remove punctuation\n",
    "    and remove words containing numbers.'''\n",
    "    text = str(text).lower()\n",
    "    text = re.sub('\\[.*?\\]', '', text)\n",
    "    text = re.sub('https?://\\S+|www\\.\\S+', '', text)\n",
    "    text = re.sub('<.*?>+', '', text)\n",
    "    text = re.sub('[%s]' % re.escape(string.punctuation), '', text)\n",
    "    text = re.sub('\\n', '', text)\n",
    "    text = re.sub('\\w*\\d\\w*', '', text)\n",
    "    return text"
   ]
  },
  {
   "cell_type": "code",
   "execution_count": 36,
   "id": "377c264d",
   "metadata": {},
   "outputs": [
    {
     "data": {
      "text/html": [
       "<div>\n",
       "<style scoped>\n",
       "    .dataframe tbody tr th:only-of-type {\n",
       "        vertical-align: middle;\n",
       "    }\n",
       "\n",
       "    .dataframe tbody tr th {\n",
       "        vertical-align: top;\n",
       "    }\n",
       "\n",
       "    .dataframe thead th {\n",
       "        text-align: right;\n",
       "    }\n",
       "</style>\n",
       "<table border=\"1\" class=\"dataframe\">\n",
       "  <thead>\n",
       "    <tr style=\"text-align: right;\">\n",
       "      <th></th>\n",
       "      <th>reviews.rating</th>\n",
       "      <th>reviews.text</th>\n",
       "      <th>sentiment</th>\n",
       "    </tr>\n",
       "  </thead>\n",
       "  <tbody>\n",
       "    <tr>\n",
       "      <th>0</th>\n",
       "      <td></td>\n",
       "      <td>This product so far has not disappointed. My c...</td>\n",
       "      <td>1</td>\n",
       "    </tr>\n",
       "    <tr>\n",
       "      <th>1</th>\n",
       "      <td></td>\n",
       "      <td>great for beginner or experienced person. Boug...</td>\n",
       "      <td>1</td>\n",
       "    </tr>\n",
       "    <tr>\n",
       "      <th>2</th>\n",
       "      <td></td>\n",
       "      <td>Inexpensive tablet for him to use and learn on...</td>\n",
       "      <td>1</td>\n",
       "    </tr>\n",
       "    <tr>\n",
       "      <th>3</th>\n",
       "      <td></td>\n",
       "      <td>I've had my Fire HD 8 two weeks now and I love...</td>\n",
       "      <td>1</td>\n",
       "    </tr>\n",
       "    <tr>\n",
       "      <th>4</th>\n",
       "      <td></td>\n",
       "      <td>I bought this for my grand daughter when she c...</td>\n",
       "      <td>1</td>\n",
       "    </tr>\n",
       "  </tbody>\n",
       "</table>\n",
       "</div>"
      ],
      "text/plain": [
       "  reviews.rating                                       reviews.text  sentiment\n",
       "0                 This product so far has not disappointed. My c...          1\n",
       "1                 great for beginner or experienced person. Boug...          1\n",
       "2                 Inexpensive tablet for him to use and learn on...          1\n",
       "3                 I've had my Fire HD 8 two weeks now and I love...          1\n",
       "4                 I bought this for my grand daughter when she c...          1"
      ]
     },
     "execution_count": 36,
     "metadata": {},
     "output_type": "execute_result"
    }
   ],
   "source": [
    "model_data['reviews.rating']=model_data['reviews.rating'].apply(lambda x:review_cleaning(x))\n",
    "model_data.head()"
   ]
  },
  {
   "cell_type": "code",
   "execution_count": 37,
   "id": "f6b1f08b",
   "metadata": {},
   "outputs": [
    {
     "data": {
      "text/plain": [
       "0    thi product far disappointed. my children love...\n",
       "1      great beginn experienc person. bought gift love\n",
       "2    inexpens tablet use learn on, step nabi. he th...\n",
       "3    i'v fire hd 8 two week i love it. thi tablet g...\n",
       "4    i bought grand daughter come visit. i set user...\n",
       "Name: reviews.text, dtype: object"
      ]
     },
     "execution_count": 37,
     "metadata": {},
     "output_type": "execute_result"
    }
   ],
   "source": [
    "words_descriptions = model_data[\"reviews.text\"].str.split()\n",
    "\n",
    "stopword_list = stopwords.words('english')\n",
    "ps = PorterStemmer()\n",
    "words_descriptions = words_descriptions.apply(lambda elem: [word for word in elem if not word in stopword_list])\n",
    "words_descriptions = words_descriptions.apply(lambda elem: [ps.stem(word) for word in elem])\n",
    "\n",
    "model_data['reviews.text'] = words_descriptions.apply(lambda elem: ' '.join(elem))\n",
    "model_data['reviews.text'].head()"
   ]
  },
  {
   "cell_type": "markdown",
   "id": "5a6d896f",
   "metadata": {},
   "source": [
    "# Testing and Training dataset"
   ]
  },
  {
   "cell_type": "code",
   "execution_count": 38,
   "id": "cf32c159",
   "metadata": {},
   "outputs": [],
   "source": [
    "y=model_data['sentiment']\n",
    "X=model_data['reviews.text']"
   ]
  },
  {
   "cell_type": "code",
   "execution_count": 39,
   "id": "607bd2b6",
   "metadata": {},
   "outputs": [],
   "source": [
    "X_train_data, X_test_data, y_train, y_test = train_test_split(X, y, test_size = 0.2, random_state = 42)"
   ]
  },
  {
   "cell_type": "code",
   "execution_count": 40,
   "id": "aae50cc9",
   "metadata": {},
   "outputs": [
    {
     "name": "stdout",
     "output_type": "stream",
     "text": [
      "['00', '000', '01', '02', '04', '09', '0f', '0v', '10', '100', '1000', '1000ma', '100v', '1024', '105', '107', '1080', '1080p', '10and', '10in']\n",
      "['youth', 'youtub', 'youtube', 'yr', 'zero', 'zinio', 'ziploc', 'zipper', 'zippi', 'zippo', 'zippy', 'zone', 'zoom', 'äîand', 'äô', 'äôm', 'äôt', 'äôv', 'äù', 'äúskills']\n"
     ]
    }
   ],
   "source": [
    "from sklearn.feature_extraction.text import CountVectorizer,TfidfVectorizer\n",
    "count_vector=CountVectorizer(stop_words=\"english\")\n",
    "count_vector.fit(X_train_data)\n",
    "print(count_vector.get_feature_names()[0:20])\n",
    "print(count_vector.get_feature_names()[-20:])\n",
    "X_train=count_vector.transform(X_train_data)\n",
    "X_test=count_vector.transform(X_test_data)"
   ]
  },
  {
   "cell_type": "code",
   "execution_count": 43,
   "id": "8b4da15b",
   "metadata": {},
   "outputs": [],
   "source": [
    "from sklearn.model_selection import cross_val_score\n",
    "from sklearn.metrics import plot_confusion_matrix, classification_report, accuracy_score\n",
    "from mlxtend.plotting import plot_decision_regions"
   ]
  },
  {
   "cell_type": "markdown",
   "id": "a763c0e4",
   "metadata": {},
   "source": [
    "# 1. Linear SVM"
   ]
  },
  {
   "cell_type": "code",
   "execution_count": 44,
   "id": "0cc9d61b",
   "metadata": {},
   "outputs": [
    {
     "name": "stdout",
     "output_type": "stream",
     "text": [
      "Train accuracy : 95.21116138763198\n",
      "Test accuracy : 84.77386934673366\n"
     ]
    },
    {
     "data": {
      "image/png": "[encoded data removed]",
      "text/plain": [
       "<Figure size 432x288 with 2 Axes>"
      ]
     },
     "metadata": {
      "needs_background": "light"
     },
     "output_type": "display_data"
    }
   ],
   "source": [
    "from sklearn.svm import SVC\n",
    "from sklearn.pipeline import Pipeline\n",
    "\n",
    "# Create the SVM  \n",
    "svm_linear = Pipeline([(\"clf_linearSVC\", SVC(random_state=42, kernel='linear'))])\n",
    "\n",
    "# Fit the data to the SVM classifier\n",
    "svm_linear.fit(X_train, y_train)\n",
    "\n",
    "# Generate predictions\n",
    "Y_Pred_lin = svm_linear.predict(X_test)\n",
    "\n",
    "#Accuracy\n",
    "print('Train accuracy :', (svm_linear.score(X_train, y_train))*100)\n",
    "print('Test accuracy :', (svm_linear.score(X_test, y_test))*100)\n",
    "\n",
    "#confusion matrix\n",
    "matrix = plot_confusion_matrix(svm_linear, X_test, y_test,\n",
    "                                 cmap=plt.cm.Blues,\n",
    "                                 normalize='true')\n",
    "plt.title('Confusion matrix for linear SVM')\n",
    "plt.show(matrix)\n",
    "plt.show()"
   ]
  },
  {
   "cell_type": "code",
   "execution_count": 45,
   "id": "c1476f80",
   "metadata": {},
   "outputs": [
    {
     "name": "stdout",
     "output_type": "stream",
     "text": [
      "Train accuracy : 95.21116138763198\n",
      "Test accuracy : 84.77386934673366\n"
     ]
    }
   ],
   "source": [
    "print('Train accuracy :', (svm_linear.score(X_train, y_train))*100)\n",
    "print('Test accuracy :', (svm_linear.score(X_test, y_test))*100)"
   ]
  },
  {
   "cell_type": "code",
   "execution_count": 46,
   "id": "49b2ff52",
   "metadata": {},
   "outputs": [
    {
     "data": {
      "image/png": "[encoded data removed]",
      "text/plain": [
       "<Figure size 432x288 with 2 Axes>"
      ]
     },
     "metadata": {
      "needs_background": "light"
     },
     "output_type": "display_data"
    }
   ],
   "source": [
    "#confusion matrix\n",
    "matrix = plot_confusion_matrix(svm_linear, X_test, y_test,\n",
    "                                 cmap=plt.cm.Blues,\n",
    "                                 normalize='true')\n",
    "plt.title('Confusion matrix for linear SVM')\n",
    "plt.show(matrix)\n",
    "plt.show()"
   ]
  },
  {
   "cell_type": "code",
   "execution_count": 47,
   "id": "8e4bf8a9",
   "metadata": {},
   "outputs": [
    {
     "name": "stdout",
     "output_type": "stream",
     "text": [
      "              precision    recall  f1-score   support\n",
      "\n",
      "           0       0.84      0.85      0.84       968\n",
      "           1       0.85      0.85      0.85      1022\n",
      "\n",
      "    accuracy                           0.85      1990\n",
      "   macro avg       0.85      0.85      0.85      1990\n",
      "weighted avg       0.85      0.85      0.85      1990\n",
      "\n"
     ]
    }
   ],
   "source": [
    "print(classification_report(y_test, Y_Pred_lin))"
   ]
  },
  {
   "cell_type": "markdown",
   "id": "d5b7f3bd",
   "metadata": {},
   "source": [
    "# 2. Radial Basis Function SVM"
   ]
  },
  {
   "cell_type": "code",
   "execution_count": 48,
   "id": "2e1d9430",
   "metadata": {},
   "outputs": [],
   "source": [
    "svm_rbf = Pipeline([(\"clf_rbfSVC\", SVC(random_state=42, kernel='rbf'))])\n",
    "svm_rbf.fit(X_train, y_train)\n",
    "Y_Pred_rbf = svm_rbf.predict(X_test)"
   ]
  },
  {
   "cell_type": "code",
   "execution_count": 49,
   "id": "f598bd6e",
   "metadata": {},
   "outputs": [
    {
     "name": "stdout",
     "output_type": "stream",
     "text": [
      "Train accuracy : 93.31322272498743\n",
      "Test accuracy : 84.321608040201\n"
     ]
    }
   ],
   "source": [
    "print('Train accuracy :', (svm_rbf.score(X_train, y_train))*100)\n",
    "print('Test accuracy :', (svm_rbf.score(X_test, y_test))*100)"
   ]
  },
  {
   "cell_type": "code",
   "execution_count": 50,
   "id": "0bf90875",
   "metadata": {},
   "outputs": [
    {
     "data": {
      "image/png": "[encoded data removed]",
      "text/plain": [
       "<Figure size 432x288 with 2 Axes>"
      ]
     },
     "metadata": {
      "needs_background": "light"
     },
     "output_type": "display_data"
    }
   ],
   "source": [
    "#confusion matrix\n",
    "matrix = plot_confusion_matrix(svm_rbf, X_test, y_test,\n",
    "                                 cmap=plt.cm.Blues,\n",
    "                                 normalize='true')\n",
    "plt.title('Confusion matrix for rbf SVM')\n",
    "plt.show(matrix)\n",
    "plt.show()"
   ]
  },
  {
   "cell_type": "code",
   "execution_count": 51,
   "id": "3b25d83c",
   "metadata": {},
   "outputs": [
    {
     "name": "stdout",
     "output_type": "stream",
     "text": [
      "              precision    recall  f1-score   support\n",
      "\n",
      "           0       0.83      0.85      0.84       968\n",
      "           1       0.85      0.84      0.85      1022\n",
      "\n",
      "    accuracy                           0.84      1990\n",
      "   macro avg       0.84      0.84      0.84      1990\n",
      "weighted avg       0.84      0.84      0.84      1990\n",
      "\n"
     ]
    }
   ],
   "source": [
    "print(classification_report(y_test, Y_Pred_rbf))"
   ]
  },
  {
   "cell_type": "markdown",
   "id": "868bdce3",
   "metadata": {},
   "source": [
    "# Fine tuning For Classifier"
   ]
  },
  {
   "cell_type": "code",
   "execution_count": 52,
   "id": "8380b793",
   "metadata": {},
   "outputs": [],
   "source": [
    "from sklearn.model_selection import GridSearchCV"
   ]
  },
  {
   "cell_type": "code",
   "execution_count": 54,
   "id": "97a25e8e",
   "metadata": {},
   "outputs": [
    {
     "name": "stdout",
     "output_type": "stream",
     "text": [
      "Fitting 5 folds for each of 18 candidates, totalling 90 fits\n",
      "[CV 1/5] END ..................C=0.1, gamma=1, kernel=linear; total time=   7.1s\n",
      "[CV 2/5] END ..................C=0.1, gamma=1, kernel=linear; total time=   7.1s\n",
      "[CV 3/5] END ..................C=0.1, gamma=1, kernel=linear; total time=   7.0s\n",
      "[CV 4/5] END ..................C=0.1, gamma=1, kernel=linear; total time=   7.1s\n",
      "[CV 5/5] END ..................C=0.1, gamma=1, kernel=linear; total time=   7.1s\n",
      "[CV 1/5] END .....................C=0.1, gamma=1, kernel=rbf; total time=  15.7s\n",
      "[CV 2/5] END .....................C=0.1, gamma=1, kernel=rbf; total time=  15.6s\n",
      "[CV 3/5] END .....................C=0.1, gamma=1, kernel=rbf; total time=  15.3s\n",
      "[CV 4/5] END .....................C=0.1, gamma=1, kernel=rbf; total time=  15.4s\n",
      "[CV 5/5] END .....................C=0.1, gamma=1, kernel=rbf; total time=  15.3s\n",
      "[CV 1/5] END ................C=0.1, gamma=0.1, kernel=linear; total time=   7.2s\n",
      "[CV 2/5] END ................C=0.1, gamma=0.1, kernel=linear; total time=   7.2s\n",
      "[CV 3/5] END ................C=0.1, gamma=0.1, kernel=linear; total time=   7.0s\n",
      "[CV 4/5] END ................C=0.1, gamma=0.1, kernel=linear; total time=   7.1s\n",
      "[CV 5/5] END ................C=0.1, gamma=0.1, kernel=linear; total time=   7.1s\n",
      "[CV 1/5] END ...................C=0.1, gamma=0.1, kernel=rbf; total time=  13.0s\n",
      "[CV 2/5] END ...................C=0.1, gamma=0.1, kernel=rbf; total time=  13.0s\n",
      "[CV 3/5] END ...................C=0.1, gamma=0.1, kernel=rbf; total time=  13.1s\n",
      "[CV 4/5] END ...................C=0.1, gamma=0.1, kernel=rbf; total time= 1.3min\n",
      "[CV 5/5] END ...................C=0.1, gamma=0.1, kernel=rbf; total time=  13.3s\n",
      "[CV 1/5] END ...............C=0.1, gamma=0.01, kernel=linear; total time=   7.1s\n",
      "[CV 2/5] END ...............C=0.1, gamma=0.01, kernel=linear; total time=   7.1s\n",
      "[CV 3/5] END ...............C=0.1, gamma=0.01, kernel=linear; total time=   7.0s\n",
      "[CV 4/5] END ...............C=0.1, gamma=0.01, kernel=linear; total time=   7.1s\n",
      "[CV 5/5] END ...............C=0.1, gamma=0.01, kernel=linear; total time=   7.1s\n",
      "[CV 1/5] END ..................C=0.1, gamma=0.01, kernel=rbf; total time=  12.3s\n",
      "[CV 2/5] END ..................C=0.1, gamma=0.01, kernel=rbf; total time=  12.5s\n",
      "[CV 3/5] END ..................C=0.1, gamma=0.01, kernel=rbf; total time=  12.3s\n",
      "[CV 4/5] END ..................C=0.1, gamma=0.01, kernel=rbf; total time=  12.4s\n",
      "[CV 5/5] END ..................C=0.1, gamma=0.01, kernel=rbf; total time=  12.3s\n",
      "[CV 1/5] END ....................C=1, gamma=1, kernel=linear; total time=   8.2s\n",
      "[CV 2/5] END ....................C=1, gamma=1, kernel=linear; total time=   7.8s\n",
      "[CV 3/5] END ....................C=1, gamma=1, kernel=linear; total time=   8.0s\n",
      "[CV 4/5] END ....................C=1, gamma=1, kernel=linear; total time=   7.9s\n",
      "[CV 5/5] END ....................C=1, gamma=1, kernel=linear; total time=   8.0s\n",
      "[CV 1/5] END .......................C=1, gamma=1, kernel=rbf; total time=  15.4s\n",
      "[CV 2/5] END .......................C=1, gamma=1, kernel=rbf; total time=  15.4s\n",
      "[CV 3/5] END .......................C=1, gamma=1, kernel=rbf; total time=  15.5s\n",
      "[CV 4/5] END .......................C=1, gamma=1, kernel=rbf; total time=  15.5s\n",
      "[CV 5/5] END .......................C=1, gamma=1, kernel=rbf; total time=  15.4s\n",
      "[CV 1/5] END ..................C=1, gamma=0.1, kernel=linear; total time=   8.2s\n",
      "[CV 2/5] END ..................C=1, gamma=0.1, kernel=linear; total time=   7.7s\n",
      "[CV 3/5] END ..................C=1, gamma=0.1, kernel=linear; total time=   7.8s\n",
      "[CV 4/5] END ..................C=1, gamma=0.1, kernel=linear; total time=   8.0s\n",
      "[CV 5/5] END ..................C=1, gamma=0.1, kernel=linear; total time=   8.2s\n",
      "[CV 1/5] END .....................C=1, gamma=0.1, kernel=rbf; total time=  11.1s\n",
      "[CV 2/5] END .....................C=1, gamma=0.1, kernel=rbf; total time=  11.2s\n",
      "[CV 3/5] END .....................C=1, gamma=0.1, kernel=rbf; total time=  11.2s\n",
      "[CV 4/5] END .....................C=1, gamma=0.1, kernel=rbf; total time=  11.3s\n",
      "[CV 5/5] END .....................C=1, gamma=0.1, kernel=rbf; total time=  11.3s\n",
      "[CV 1/5] END .................C=1, gamma=0.01, kernel=linear; total time=   8.4s\n",
      "[CV 2/5] END .................C=1, gamma=0.01, kernel=linear; total time=   7.8s\n",
      "[CV 3/5] END .................C=1, gamma=0.01, kernel=linear; total time=   7.8s\n",
      "[CV 4/5] END .................C=1, gamma=0.01, kernel=linear; total time=   7.9s\n",
      "[CV 5/5] END .................C=1, gamma=0.01, kernel=linear; total time=   8.0s\n",
      "[CV 1/5] END ....................C=1, gamma=0.01, kernel=rbf; total time=   8.8s\n",
      "[CV 2/5] END ....................C=1, gamma=0.01, kernel=rbf; total time=   8.9s\n",
      "[CV 3/5] END ....................C=1, gamma=0.01, kernel=rbf; total time=   8.9s\n",
      "[CV 4/5] END ....................C=1, gamma=0.01, kernel=rbf; total time=   8.9s\n",
      "[CV 5/5] END ....................C=1, gamma=0.01, kernel=rbf; total time=   8.8s\n",
      "[CV 1/5] END ...................C=10, gamma=1, kernel=linear; total time=  12.0s\n",
      "[CV 2/5] END ...................C=10, gamma=1, kernel=linear; total time=  12.0s\n",
      "[CV 3/5] END ...................C=10, gamma=1, kernel=linear; total time=  13.6s\n",
      "[CV 4/5] END ...................C=10, gamma=1, kernel=linear; total time=  14.0s\n",
      "[CV 5/5] END ...................C=10, gamma=1, kernel=linear; total time=  12.8s\n",
      "[CV 1/5] END ......................C=10, gamma=1, kernel=rbf; total time=  13.8s\n",
      "[CV 2/5] END ......................C=10, gamma=1, kernel=rbf; total time=  13.9s\n",
      "[CV 3/5] END ......................C=10, gamma=1, kernel=rbf; total time=  13.7s\n",
      "[CV 4/5] END ......................C=10, gamma=1, kernel=rbf; total time=  14.0s\n",
      "[CV 5/5] END ......................C=10, gamma=1, kernel=rbf; total time=  13.9s\n",
      "[CV 1/5] END .................C=10, gamma=0.1, kernel=linear; total time=  12.0s\n",
      "[CV 2/5] END .................C=10, gamma=0.1, kernel=linear; total time=  12.0s\n",
      "[CV 3/5] END .................C=10, gamma=0.1, kernel=linear; total time=  13.5s\n",
      "[CV 4/5] END .................C=10, gamma=0.1, kernel=linear; total time=  13.8s\n",
      "[CV 5/5] END .................C=10, gamma=0.1, kernel=linear; total time=  12.7s\n",
      "[CV 1/5] END ....................C=10, gamma=0.1, kernel=rbf; total time=  48.7s\n",
      "[CV 2/5] END ....................C=10, gamma=0.1, kernel=rbf; total time=  11.9s\n",
      "[CV 3/5] END ...................C=10, gamma=0.1, kernel=rbf; total time=246.1min\n",
      "[CV 4/5] END ....................C=10, gamma=0.1, kernel=rbf; total time=  13.8s\n",
      "[CV 5/5] END ....................C=10, gamma=0.1, kernel=rbf; total time=  13.2s\n",
      "[CV 1/5] END ................C=10, gamma=0.01, kernel=linear; total time=  12.6s\n",
      "[CV 2/5] END ................C=10, gamma=0.01, kernel=linear; total time=  11.9s\n",
      "[CV 3/5] END ................C=10, gamma=0.01, kernel=linear; total time=  13.8s\n",
      "[CV 4/5] END ................C=10, gamma=0.01, kernel=linear; total time=  13.6s\n",
      "[CV 5/5] END ................C=10, gamma=0.01, kernel=linear; total time=  12.7s\n",
      "[CV 1/5] END ...................C=10, gamma=0.01, kernel=rbf; total time=   7.4s\n",
      "[CV 2/5] END ...................C=10, gamma=0.01, kernel=rbf; total time=   7.5s\n",
      "[CV 3/5] END ...................C=10, gamma=0.01, kernel=rbf; total time=   7.4s\n",
      "[CV 4/5] END ...................C=10, gamma=0.01, kernel=rbf; total time=   7.6s\n",
      "[CV 5/5] END ...................C=10, gamma=0.01, kernel=rbf; total time=   7.4s\n"
     ]
    },
    {
     "data": {
      "text/plain": [
       "GridSearchCV(estimator=SVC(),\n",
       "             param_grid={'C': [0.1, 1, 10], 'gamma': [1, 0.1, 0.01],\n",
       "                         'kernel': ['linear', 'rbf']},\n",
       "             verbose=3)"
      ]
     },
     "execution_count": 54,
     "metadata": {},
     "output_type": "execute_result"
    }
   ],
   "source": [
    "from sklearn.model_selection import GridSearchCV\n",
    "from sklearn.svm import SVC\n",
    "  \n",
    "# defining parameter range\n",
    "param_grid = {'C': [0.1, 1, 10], \n",
    "              'gamma': [1, 0.1, 0.01],\n",
    "              'kernel': ['linear', 'rbf']} \n",
    "  \n",
    "grid = GridSearchCV(SVC(), param_grid, refit = True, verbose = 3)\n",
    "  \n",
    "# fitting the model for grid search\n",
    "grid.fit(X_train, y_train)"
   ]
  },
  {
   "cell_type": "code",
   "execution_count": 55,
   "id": "26d4cd8b",
   "metadata": {},
   "outputs": [
    {
     "name": "stdout",
     "output_type": "stream",
     "text": [
      "{'C': 10, 'gamma': 0.01, 'kernel': 'rbf'}\n",
      "SVC(C=10, gamma=0.01)\n"
     ]
    }
   ],
   "source": [
    "# print best parameter after tuning\n",
    "print(grid.best_params_)\n",
    "  \n",
    "# print how our model looks after hyper-parameter tuning\n",
    "print(grid.best_estimator_)"
   ]
  },
  {
   "cell_type": "code",
   "execution_count": 56,
   "id": "79829677",
   "metadata": {},
   "outputs": [],
   "source": [
    "grid_predictions = grid.best_estimator_.predict(X_test)"
   ]
  },
  {
   "cell_type": "code",
   "execution_count": 57,
   "id": "8c0a6257",
   "metadata": {},
   "outputs": [
    {
     "data": {
      "image/png": "[encoded data removed]",
      "text/plain": [
       "<Figure size 432x288 with 2 Axes>"
      ]
     },
     "metadata": {
      "needs_background": "light"
     },
     "output_type": "display_data"
    }
   ],
   "source": [
    "#confusion matrix\n",
    "matrix = plot_confusion_matrix(grid, X_test, y_test,\n",
    "                                 cmap=plt.cm.Blues,\n",
    "                                 normalize='true')\n",
    "plt.title('Confusion matrix for rbf SVM')\n",
    "plt.show(matrix)\n",
    "plt.show()"
   ]
  },
  {
   "cell_type": "code",
   "execution_count": 58,
   "id": "d02193aa",
   "metadata": {},
   "outputs": [
    {
     "name": "stdout",
     "output_type": "stream",
     "text": [
      "              precision    recall  f1-score   support\n",
      "\n",
      "           0       0.85      0.84      0.85       968\n",
      "           1       0.85      0.86      0.86      1022\n",
      "\n",
      "    accuracy                           0.85      1990\n",
      "   macro avg       0.85      0.85      0.85      1990\n",
      "weighted avg       0.85      0.85      0.85      1990\n",
      "\n"
     ]
    }
   ],
   "source": [
    "# print classification report\n",
    "print(classification_report(y_test, grid_predictions))"
   ]
  },
  {
   "cell_type": "code",
   "execution_count": 59,
   "id": "256d710c",
   "metadata": {},
   "outputs": [],
   "source": [
    "accur_values = {'Name': ['Linear SVM', 'Rbf SVM', 'Fine tuned SVM' ], 'Training Accuracy': [95.21116138763198, 93.31322272498743, 93.48919054801408], 'Test Accuracy': [84.77386934673366, 84.321608040201, 85.37688442211055] }"
   ]
  },
  {
   "cell_type": "code",
   "execution_count": 60,
   "id": "6f96808a",
   "metadata": {},
   "outputs": [],
   "source": [
    "accur = pd.DataFrame(accur_values)"
   ]
  },
  {
   "cell_type": "code",
   "execution_count": 61,
   "id": "8cf3a0f6",
   "metadata": {},
   "outputs": [
    {
     "data": {
      "text/html": [
       "<div>\n",
       "<style scoped>\n",
       "    .dataframe tbody tr th:only-of-type {\n",
       "        vertical-align: middle;\n",
       "    }\n",
       "\n",
       "    .dataframe tbody tr th {\n",
       "        vertical-align: top;\n",
       "    }\n",
       "\n",
       "    .dataframe thead th {\n",
       "        text-align: right;\n",
       "    }\n",
       "</style>\n",
       "<table border=\"1\" class=\"dataframe\">\n",
       "  <thead>\n",
       "    <tr style=\"text-align: right;\">\n",
       "      <th></th>\n",
       "      <th>Name</th>\n",
       "      <th>Training Accuracy</th>\n",
       "      <th>Test Accuracy</th>\n",
       "    </tr>\n",
       "  </thead>\n",
       "  <tbody>\n",
       "    <tr>\n",
       "      <th>0</th>\n",
       "      <td>Linear SVM</td>\n",
       "      <td>95.211161</td>\n",
       "      <td>84.773869</td>\n",
       "    </tr>\n",
       "    <tr>\n",
       "      <th>1</th>\n",
       "      <td>Rbf SVM</td>\n",
       "      <td>93.313223</td>\n",
       "      <td>84.321608</td>\n",
       "    </tr>\n",
       "    <tr>\n",
       "      <th>2</th>\n",
       "      <td>Fine tuned SVM</td>\n",
       "      <td>93.489191</td>\n",
       "      <td>85.376884</td>\n",
       "    </tr>\n",
       "  </tbody>\n",
       "</table>\n",
       "</div>"
      ],
      "text/plain": [
       "             Name  Training Accuracy  Test Accuracy\n",
       "0      Linear SVM          95.211161      84.773869\n",
       "1         Rbf SVM          93.313223      84.321608\n",
       "2  Fine tuned SVM          93.489191      85.376884"
      ]
     },
     "execution_count": 61,
     "metadata": {},
     "output_type": "execute_result"
    }
   ],
   "source": [
    "accur"
   ]
  },
  {
   "cell_type": "code",
   "execution_count": 62,
   "id": "3ae20e9d",
   "metadata": {},
   "outputs": [
    {
     "data": {
      "image/png": "[encoded data removed]",
      "text/plain": [
       "<Figure size 576x576 with 1 Axes>"
      ]
     },
     "metadata": {
      "needs_background": "light"
     },
     "output_type": "display_data"
    }
   ],
   "source": [
    "# set width of bar\n",
    "barWidth = 0.25\n",
    "fig = plt.subplots(figsize =(8, 8))\n",
    "\n",
    "br1 = np.arange(3)\n",
    "br2 = [x + barWidth for x in br1]\n",
    "br3 = [x + barWidth for x in br2]\n",
    "\n",
    "name = list(accur['Name'])\n",
    "train = accur['Training Accuracy']\n",
    "test = accur['Test Accuracy']\n",
    "\n",
    "plt.bar(br1, train, width = barWidth,\n",
    "        edgecolor ='grey', label ='Training Accuracy')\n",
    "plt.bar(br2, test,  width = barWidth,\n",
    "        edgecolor ='grey', label ='Test Accuracy')\n",
    "\n",
    "plt.xlabel('Classifier', fontweight ='bold', fontsize = 15)\n",
    "plt.ylabel('Accuracy (by precent)', fontweight ='bold', fontsize = 15)\n",
    "plt.xticks([r + barWidth*0.5 for r in range(3)],\n",
    "        name)\n",
    "\n",
    "plt.legend(bbox_to_anchor=(1.3, 0.5))\n",
    "plt.show()"
   ]
  },
  {
   "cell_type": "code",
   "execution_count": null,
   "id": "448020f9",
   "metadata": {},
   "outputs": [],
   "source": []
  },
  {
   "cell_type": "code",
   "execution_count": null,
   "id": "b58f4d4a",
   "metadata": {},
   "outputs": [],
   "source": []
  },
  {
   "cell_type": "code",
   "execution_count": null,
   "id": "4a2033ae",
   "metadata": {},
   "outputs": [],
   "source": []
  },
  {
   "cell_type": "code",
   "execution_count": null,
   "id": "361377bf",
   "metadata": {},
   "outputs": [],
   "source": []
  },
  {
   "cell_type": "code",
   "execution_count": null,
   "id": "74b82e2d",
   "metadata": {},
   "outputs": [],
   "source": []
  }
 ],
 "metadata": {
  "kernelspec": {
   "display_name": "Python 3",
   "language": "python",
   "name": "python3"
  },
  "language_info": {
   "codemirror_mode": {
    "name": "ipython",
    "version": 3
   },
   "file_extension": ".py",
   "mimetype": "text/x-python",
   "name": "python",
   "nbconvert_exporter": "python",
   "pygments_lexer": "ipython3",
   "version": "3.8.8"
  }
 },
 "nbformat": 4,
 "nbformat_minor": 5
}
